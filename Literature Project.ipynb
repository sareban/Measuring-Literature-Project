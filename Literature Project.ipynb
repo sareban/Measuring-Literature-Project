{
 "cells": [
  {
   "cell_type": "code",
   "execution_count": 2,
   "metadata": {
    "collapsed": true
   },
   "outputs": [],
   "source": [
    "%matplotlib inline\n",
    "import pandas as pd\n",
    "import numpy as np\n",
    "import matplotlib.pyplot as plt\n",
    "import seaborn as sns"
   ]
  },
  {
   "cell_type": "markdown",
   "metadata": {},
   "source": [
    "# Measuring Literature project"
   ]
  },
  {
   "cell_type": "code",
   "execution_count": 67,
   "metadata": {
    "collapsed": false
   },
   "outputs": [
    {
     "data": {
      "text/html": [
       "<div>\n",
       "<table border=\"1\" class=\"dataframe\">\n",
       "  <thead>\n",
       "    <tr style=\"text-align: right;\">\n",
       "      <th></th>\n",
       "      <th>Poet</th>\n",
       "      <th>Poem</th>\n",
       "      <th>Hemistich</th>\n",
       "      <th>Verse</th>\n",
       "      <th>Text</th>\n",
       "      <th>?</th>\n",
       "    </tr>\n",
       "    <tr>\n",
       "      <th>Index</th>\n",
       "      <th></th>\n",
       "      <th></th>\n",
       "      <th></th>\n",
       "      <th></th>\n",
       "      <th></th>\n",
       "      <th></th>\n",
       "    </tr>\n",
       "  </thead>\n",
       "  <tbody>\n",
       "    <tr>\n",
       "      <th>1</th>\n",
       "      <td>1</td>\n",
       "      <td>1</td>\n",
       "      <td>1</td>\n",
       "      <td>1</td>\n",
       "      <td>الا یا ایها الساقی ادر کاسا و ناولها</td>\n",
       "      <td>0</td>\n",
       "    </tr>\n",
       "    <tr>\n",
       "      <th>2</th>\n",
       "      <td>1</td>\n",
       "      <td>1</td>\n",
       "      <td>2</td>\n",
       "      <td>1</td>\n",
       "      <td>که عشق آسان نمود اول ولی افتاد مشکل‌ها</td>\n",
       "      <td>0</td>\n",
       "    </tr>\n",
       "    <tr>\n",
       "      <th>3</th>\n",
       "      <td>1</td>\n",
       "      <td>1</td>\n",
       "      <td>3</td>\n",
       "      <td>2</td>\n",
       "      <td>به بوی نافه‌ای کاخر صبا زان طره بگشاید</td>\n",
       "      <td>0</td>\n",
       "    </tr>\n",
       "    <tr>\n",
       "      <th>4</th>\n",
       "      <td>1</td>\n",
       "      <td>1</td>\n",
       "      <td>4</td>\n",
       "      <td>2</td>\n",
       "      <td>ز تاب جعد مشکینش چه خون افتاد در دل‌ها</td>\n",
       "      <td>0</td>\n",
       "    </tr>\n",
       "    <tr>\n",
       "      <th>5</th>\n",
       "      <td>1</td>\n",
       "      <td>1</td>\n",
       "      <td>5</td>\n",
       "      <td>3</td>\n",
       "      <td>مرا در منزل جانان چه امن عیش چون هر دم</td>\n",
       "      <td>0</td>\n",
       "    </tr>\n",
       "    <tr>\n",
       "      <th>6</th>\n",
       "      <td>1</td>\n",
       "      <td>1</td>\n",
       "      <td>6</td>\n",
       "      <td>3</td>\n",
       "      <td>جرس فریاد می‌دارد که بربندید محمل‌ها</td>\n",
       "      <td>0</td>\n",
       "    </tr>\n",
       "    <tr>\n",
       "      <th>7</th>\n",
       "      <td>1</td>\n",
       "      <td>1</td>\n",
       "      <td>7</td>\n",
       "      <td>4</td>\n",
       "      <td>به می سجاده رنگین کن گرت پیر مغان گوید</td>\n",
       "      <td>0</td>\n",
       "    </tr>\n",
       "    <tr>\n",
       "      <th>8</th>\n",
       "      <td>1</td>\n",
       "      <td>1</td>\n",
       "      <td>8</td>\n",
       "      <td>4</td>\n",
       "      <td>که سالک بی‌خبر نبود ز راه و رسم منزل‌ها</td>\n",
       "      <td>0</td>\n",
       "    </tr>\n",
       "    <tr>\n",
       "      <th>9</th>\n",
       "      <td>1</td>\n",
       "      <td>1</td>\n",
       "      <td>9</td>\n",
       "      <td>5</td>\n",
       "      <td>شب تاریک و بیم موج و گردابی چنین هایل</td>\n",
       "      <td>0</td>\n",
       "    </tr>\n",
       "    <tr>\n",
       "      <th>10</th>\n",
       "      <td>1</td>\n",
       "      <td>1</td>\n",
       "      <td>10</td>\n",
       "      <td>5</td>\n",
       "      <td>کجا دانند حال ما سبکباران ساحل‌ها</td>\n",
       "      <td>0</td>\n",
       "    </tr>\n",
       "  </tbody>\n",
       "</table>\n",
       "</div>"
      ],
      "text/plain": [
       "       Poet  Poem  Hemistich  Verse                                     Text  \\\n",
       "Index                                                                          \n",
       "1         1     1          1      1     الا یا ایها الساقی ادر کاسا و ناولها   \n",
       "2         1     1          2      1   که عشق آسان نمود اول ولی افتاد مشکل‌ها   \n",
       "3         1     1          3      2   به بوی نافه‌ای کاخر صبا زان طره بگشاید   \n",
       "4         1     1          4      2   ز تاب جعد مشکینش چه خون افتاد در دل‌ها   \n",
       "5         1     1          5      3   مرا در منزل جانان چه امن عیش چون هر دم   \n",
       "6         1     1          6      3     جرس فریاد می‌دارد که بربندید محمل‌ها   \n",
       "7         1     1          7      4   به می سجاده رنگین کن گرت پیر مغان گوید   \n",
       "8         1     1          8      4  که سالک بی‌خبر نبود ز راه و رسم منزل‌ها   \n",
       "9         1     1          9      5    شب تاریک و بیم موج و گردابی چنین هایل   \n",
       "10        1     1         10      5        کجا دانند حال ما سبکباران ساحل‌ها   \n",
       "\n",
       "       ?  \n",
       "Index     \n",
       "1      0  \n",
       "2      0  \n",
       "3      0  \n",
       "4      0  \n",
       "5      0  \n",
       "6      0  \n",
       "7      0  \n",
       "8      0  \n",
       "9      0  \n",
       "10     0  "
      ]
     },
     "execution_count": 67,
     "metadata": {},
     "output_type": "execute_result"
    }
   ],
   "source": [
    "df = pd.read_excel(\"poems.xlsx\", names=[\"Poet\", \"Poem\", \"Hemistich\", \"Verse\",\"Text\", \"?\"], index_col=0)\n",
    "df.index.name=\"Index\"\n",
    "df.Text = df.Text.str.strip()\n",
    "df.drop([333186], inplace=True)\n",
    "df.head(10)"
   ]
  },
  {
   "cell_type": "markdown",
   "metadata": {},
   "source": [
    "## Mapping the poets' id to names"
   ]
  },
  {
   "cell_type": "code",
   "execution_count": 70,
   "metadata": {
    "collapsed": false
   },
   "outputs": [],
   "source": [
    "poet={1:\"Hafez\", 2:\"Saadi\", 3:\"Molavi\", 4:\"Attar\", 5:\"Sanaee\", 6:\"Vahshi\", 7:\"Khaghani\", 8:\"Anvari\", 9:\"Ouhadi\", 10:\"Khajoo\",\n",
    "      11:\"Eraghi\", 12:\"Bahar\", 13:\"Hatef\", 14:\"Saeb Tabrizi\", 15:\"Kashani\", 16:\"Amir Khosro\", 17:\"Bahaee\", 18:\"Shahriar\",\n",
    "      19:\"Shah Nematollah\", 20:\"Seyf Farghani\", 21:\"Salman\", 22:\"Ghaani\", 23:\"Orfi\", 24:\"Obeyd\", 25:\"Helali\",\n",
    "      26:\"Forooghi\", 27:\"Feyz\", 28:\"Bidel\", 29:\"Razi\", 30:\"Rahi\"}"
   ]
  },
  {
   "cell_type": "markdown",
   "metadata": {
    "collapsed": true
   },
   "source": [
    "# Exploratory analysis"
   ]
  },
  {
   "cell_type": "code",
   "execution_count": 82,
   "metadata": {
    "collapsed": false
   },
   "outputs": [
    {
     "data": {
      "image/png": "[encoded data removed]",
      "text/plain": [
       "<matplotlib.figure.Figure at 0x201c6e9f3c8>"
      ]
     },
     "metadata": {},
     "output_type": "display_data"
    }
   ],
   "source": [
    "#Distribution of poems by poet\n",
    "df_count_hemi = df[[\"Poet\"]].groupby(\"Poet\").size()\n",
    "ax = df_count_hemi.plot(\"bar\")\n",
    "ax.set_xticklabels(list(poet.values()));"
   ]
  },
  {
   "cell_type": "code",
   "execution_count": null,
   "metadata": {
    "collapsed": true
   },
   "outputs": [],
   "source": []
  }
 ],
 "metadata": {
  "anaconda-cloud": {},
  "kernelspec": {
   "display_name": "Python 3",
   "language": "python",
   "name": "python3"
  },
  "language_info": {
   "codemirror_mode": {
    "name": "ipython",
    "version": 3
   },
   "file_extension": ".py",
   "mimetype": "text/x-python",
   "name": "python",
   "nbconvert_exporter": "python",
   "pygments_lexer": "ipython3",
   "version": "3.5.2"
  }
 },
 "nbformat": 4,
 "nbformat_minor": 2
}
